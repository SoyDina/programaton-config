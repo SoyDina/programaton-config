{
  "nbformat": 4,
  "nbformat_minor": 0,
  "metadata": {
    "colab": {
      "provenance": [],
      "collapsed_sections": []
    },
    "kernelspec": {
      "name": "python3",
      "display_name": "Python 3"
    },
    "language_info": {
      "name": "python"
    }
  },
  "cells": [
    {
      "cell_type": "markdown",
      "source": [
        "# ¿Cuántas figus hay que comprar para llenar el álbum del mundial?\n",
        "\n",
        "En el Programatón realizado en la Facultad de Ciencias Exactas y Naturales de la UBA respondimos esta pregunta usando Python. Este notebook es un resumen de toda la actividad para que puedan correr desde sus casas en [Google Colab](https://colab.research.google.com/). Para ejecutar las celdas se pueden hacer click en el símbolo de play arriba a la izquierda o apretar las teclas Shift+Enter o Ctrl+Enter.\n"
      ],
      "metadata": {
        "id": "4OgJC-3wU-FJ"
      }
    },
    {
      "cell_type": "markdown",
      "source": [
        "Recordando:\n",
        "\n",
        "Queremos contar cuántas figus tenemos que comprar para llenar el album del mundial. Para eso tendremos que modelar tres cosas fundamentales:\n",
        "1. Un **contador** de las figus que compramos.\n",
        "1. Un **album**.\n",
        "1. Una forma de comprar una **figu**."
      ],
      "metadata": {
        "id": "d5QhJ-3zVDog"
      }
    },
    {
      "cell_type": "markdown",
      "source": [
        "Empecemos con el **contador**, que lo podemos modelar como una variable de Python. Hacemos que al principio el **contador** valga 0, porque todavía no compramos ninguna **figu**."
      ],
      "metadata": {
        "id": "ZhgPL0DZW9SL"
      }
    },
    {
      "cell_type": "code",
      "source": [
        "contador = 0"
      ],
      "metadata": {
        "id": "9j3r-nIRVCe4"
      },
      "execution_count": null,
      "outputs": []
    },
    {
      "cell_type": "markdown",
      "source": [
        "Se habrán dado cuenta que Google Colab no tiene un visualizador como el editor de texto que usamos en la facultad. Por eso, para ver cuál es el valor de las cosas que definimos podemos usar la función \"**print()**\" de Python, donde ponemos entre paréntesis el nombre de lo que queremos ver:"
      ],
      "metadata": {
        "id": "nCmBs6O-XiQY"
      }
    },
    {
      "cell_type": "code",
      "source": [
        "print(contador)"
      ],
      "metadata": {
        "id": "r4LPtocIXhKV"
      },
      "execution_count": null,
      "outputs": []
    },
    {
      "cell_type": "markdown",
      "source": [
        "De ahora en más, usaremos la función **print()** luego de cambiar cada variable para saber cuánto vale."
      ],
      "metadata": {
        "id": "FCyOurKVZhLx"
      }
    },
    {
      "cell_type": "markdown",
      "source": [
        "Sigamos con el **album**. Para arrancar, hagamos nuestro **album** de sólo 6 figuritas. Podemos modelar a nuestro **album** vacío como una lista de 0's, con tantos 0's como figuritas: "
      ],
      "metadata": {
        "id": "CyWlqwMqYelM"
      }
    },
    {
      "cell_type": "code",
      "source": [
        "album = [0, 0, 0, 0, 0, 0]\n",
        "print(album)"
      ],
      "metadata": {
        "id": "xrWEzMXPYHcf"
      },
      "execution_count": null,
      "outputs": []
    },
    {
      "cell_type": "markdown",
      "source": [
        "Cada 0 representa que nos falta la figu de la posición que le corresponde. Por ejemplo, el primer 0 representa que no tenemos a la figu n° 0, y el último 0 representa que no tenemos a la figu n° 5.\n"
      ],
      "metadata": {
        "id": "G0L4C8V9aOxr"
      }
    },
    {
      "cell_type": "markdown",
      "source": [
        "Ahora, podemos pensar que cada **figu** es un número aleatorio entre 0 y 5 (como tirar el dado). Para hacer esto con Python, primero tenemos que importar el módulo random:"
      ],
      "metadata": {
        "id": "fi702eZBahe2"
      }
    },
    {
      "cell_type": "code",
      "source": [
        "import random"
      ],
      "metadata": {
        "id": "v9XA07BrZd4r"
      },
      "execution_count": null,
      "outputs": []
    },
    {
      "cell_type": "markdown",
      "source": [
        "Ahora, podemos generar un número aleatorio entre 0 y 5 y guardarlo en la variable **figu** escribiendo lo siguiente:"
      ],
      "metadata": {
        "id": "5q9M_l6xbVCz"
      }
    },
    {
      "cell_type": "code",
      "source": [
        "figu = random.randint(0, 5)\n",
        "print(figu)"
      ],
      "metadata": {
        "id": "qFClznwCbUDc"
      },
      "execution_count": null,
      "outputs": []
    },
    {
      "cell_type": "markdown",
      "source": [
        "La variable **figu** representa la **figu** que compramos. Recuerden que, como la primera figurita de nuestro album es la número 0, la sexta figurita es la número 5.  \n",
        "\n",
        "Podemos pegar la figu que acabamos de comprar en la posición que le corresponde en el **album**. Por cómo elegimos modelarlo, \"pegar\" una **figu** quiere decir reemplazar el 0 por un 1 en la posición de esa **figu** en el **album**. Eso lo hacemos de la siguiente forma:"
      ],
      "metadata": {
        "id": "iJyGoslocBG1"
      }
    },
    {
      "cell_type": "code",
      "source": [
        "album[figu] = 1\n",
        "print(album)"
      ],
      "metadata": {
        "id": "f6XAF4pcb-vs"
      },
      "execution_count": null,
      "outputs": []
    },
    {
      "cell_type": "markdown",
      "source": [
        "No nos tenemos que olvidar de sumarle 1 al **contador**, para contar la figurita que acabamos de comprar y pegar en el album:"
      ],
      "metadata": {
        "id": "gk-u4RNDdbvZ"
      }
    },
    {
      "cell_type": "code",
      "source": [
        "contador = contador + 1\n",
        "print(contador)"
      ],
      "metadata": {
        "id": "VeXIA9DQdZeY"
      },
      "execution_count": null,
      "outputs": []
    },
    {
      "cell_type": "markdown",
      "source": [
        "Acá lo que estamos haciendo es \"actualizar\" el valor del **contador**, sumándole 1 a su valor actual.\n",
        "\n",
        "Si ahora ejecutamos las tres celdas anteriores repetidas veces, en algún momento vamos a llegar a tener un **album** completo. Por cómo elegimos modelar el **album**, nuestro **album** completo se vería así: [1, 1, 1, 1, 1, 1].\n",
        "Una vez que completamos el **album**, podemos volver a hacer que esté vacío y que el contador vuelva a 0 ejecutando la primera y la tercera celda. "
      ],
      "metadata": {
        "id": "5SGp5FqHes1S"
      }
    },
    {
      "cell_type": "markdown",
      "source": [
        "Si recuerdan, nos habíamos dado cuenta que cuando el **album** estaba lleno (tiene un 1 en todos sus lugares), la suma de todos sus elementos daba 6. Esto lo podemos chequear con la función **sum()** de Python, poniendo el **album** entre los paréntesis:"
      ],
      "metadata": {
        "id": "Pi205UCAmbma"
      }
    },
    {
      "cell_type": "code",
      "source": [
        "sum(album)"
      ],
      "metadata": {
        "id": "b-EJuaACesDi"
      },
      "execution_count": null,
      "outputs": []
    },
    {
      "cell_type": "markdown",
      "source": [
        "Esto lo podemos usar para decirle a Python que *mientras* (**while**) el **album** esté incompleto (es decir, mientras la suma de sus elementos sea menor a 6) realice los pasos que hicimos antes:\n",
        "1. Comprar una **figu**.\n",
        "1. Pegar la **figu** en el **album**.\n",
        "1. Actualizar el **contador** para contar la **figu** que compramos.\n",
        "\n",
        "Hay que recordar que, inicialmente el **album** debe estar vacío, y el **contador** debe ser 0. Python nos deja escribir esto así:"
      ],
      "metadata": {
        "id": "5wOcCIMnocEC"
      }
    },
    {
      "cell_type": "code",
      "source": [
        "album = [0, 0, 0, 0, 0, 0]      # Álbum inicalmente vacío\n",
        "contador = 0                    # Contador inicalmente 0\n",
        "while sum(album) < 6:           # Mientras la suma de los elementos sea menor a 6\n",
        "  figu = random.randint(0, 5)   # Compramos una figu\n",
        "  album[figu] = 1               # Pegamos la figu\n",
        "  contador = contador + 1       # Contamos la figu que compramos\n",
        "print(contador)                 # Imprimimos cuantas figus necesitamos para llenar el album"
      ],
      "metadata": {
        "id": "K8dgCjDboVIq"
      },
      "execution_count": null,
      "outputs": []
    },
    {
      "cell_type": "markdown",
      "source": [
        "En resumen:\n",
        "\n",
        "Acá le estamos diciendo a Python que mientras el álbum esté incompleto, queremos que repita las 3 instrucciones que están separadas del margen. \n",
        "Entonces, Python va a \"salirse\" de este ciclo cuando el álbum esté completo,\n",
        "y el contador va a tener el valor que nos interesa: ¡La cantidad de figuritas\n",
        "que tuvimos que comprar para llenarlo!\n"
      ],
      "metadata": {
        "id": "l2wp0wNhqqYg"
      }
    },
    {
      "cell_type": "markdown",
      "source": [
        "¡Genial! Ahora sabemos cuántas figus necesitamos para llenar el **album**, pero hay un problema: ¡ese número casi siempre es distinto!. Para resolver este problema, podríamos cambiar ligeramente la pregunta: ¿Cuántas figus se necesitan **en promedio** para llenar el album?\n",
        "\n",
        "Para responderla, lo que podemos hacer es llenar el **album** muchas veces, contar cuántas figus necesitamos cada vez, y tomar el promedio. Para eso, podemos hacer una lista llamada **pocosResultados** que tenga tantas posiciones como la cantidad de veces que queremos llenar el **album**. En cada lugar tiene un -1, elegido sólo para que ocupe ese lugar antes de llenar el **album** y reemplazarlo por la cantidad de figuritas que necesitamos para llenarlo. Para empezar, llenemos el **album** 5 veces:"
      ],
      "metadata": {
        "id": "xPhkwhY9snNe"
      }
    },
    {
      "cell_type": "code",
      "source": [
        "pocosResultados = [-1, -1, -1, -1, -1]\n",
        "print(pocosResultados)"
      ],
      "metadata": {
        "id": "OR1Yg_cKqIsB"
      },
      "execution_count": null,
      "outputs": []
    },
    {
      "cell_type": "markdown",
      "source": [
        "Ahora podemos correr la celda que llena el **album** 5 veces (ejecutando 5 veces la celda 9) y reemplazar los valores en la lista **pocosResultados**. Por ejemplo, si para llenar el **album** la primera vez tuvimos que comprar 16 figuritas, ponemos 16 en el primer lugar. Reemplacen el resto ustedes:"
      ],
      "metadata": {
        "id": "HC7W5jGNxyks"
      }
    },
    {
      "cell_type": "code",
      "source": [
        "pocosResultados[0] = 16\n",
        "pocosResultados[1] = -1 #Reemplazar\n",
        "pocosResultados[2] = -1 #Reemplazar\n",
        "pocosResultados[3] = -1 #Reemplazar\n",
        "pocosResultados[4] = -1 #Reemplazar\n",
        "print(pocosResultados)"
      ],
      "metadata": {
        "id": "tZupq6HExxsm"
      },
      "execution_count": null,
      "outputs": []
    },
    {
      "cell_type": "markdown",
      "source": [
        "Una vez que esté llena la lista **pocosResultados** podemos tomar el promedio y guardarlo en una variable llamada **promedioPocos**. Para eso hacemos la suma de todos los elementos (con la función **sum()**) que usamos antes, y dividimos por la cantidad de veces que llenamos el **album**. Entonces el promedio nos quedaría así:"
      ],
      "metadata": {
        "id": "xv3sT8HTy9F0"
      }
    },
    {
      "cell_type": "code",
      "source": [
        "promedioPocos = sum(pocosResultados)/5\n",
        "print(promedioPocos)"
      ],
      "metadata": {
        "id": "yIGZVUPFywrB"
      },
      "execution_count": null,
      "outputs": []
    },
    {
      "cell_type": "markdown",
      "source": [
        "¡Genial! Tenemos nuestro primer promedio. Pero... sólo con 6 figus. Cambiemos un poco el código para hacerlo con 638, como el álbum del mundial.\n",
        "\n",
        "Para eso sólo tenemos que definir una variable más, que vamos a llamar **figusTotal**. La vamos a usar primero para generar el **album** vacío con **figusTotal** 0's. Para eso usamos el truco de generar una lista con un sólo 0, y luego multiplicarla por **figusTotal**:"
      ],
      "metadata": {
        "id": "AiAJXZ9Y0IWo"
      }
    },
    {
      "cell_type": "code",
      "source": [
        "figusTotal = 638           # Definimos el número de figus que tiene el álbum\n",
        "album = [0] * figusTotal   # Generamos el álbum con figusTotal 0's \n",
        "print(album)               # Imprimimos el álbum"
      ],
      "metadata": {
        "id": "9NIia9Dgzo5G"
      },
      "execution_count": null,
      "outputs": []
    },
    {
      "cell_type": "markdown",
      "source": [
        "Ahora, cuando el **album** esté completo la suma de todos sus elementos va a dar **figusTotal**=638 (porque estamos sumando **figusTotal**=638 veces 1), entonces tenemos que actualizar esa condición en el **while**. Además, como ahora el **album** tiene **figusTotal**=638 figus, la primera **figu** es la número 0 y la última es la número **figusTotal** - 1 = 638 - 1 = 637. Entonces, el código cambiado quedaría:"
      ],
      "metadata": {
        "id": "_5D12BCo2Fpi"
      }
    },
    {
      "cell_type": "code",
      "source": [
        "contador = 0                                  # Iniciamos el contador en 0\n",
        "while sum(album) < figusTotal:                # Mientras el álbum no esté lleno\n",
        "  figu = random.randint(0, figusTotal - 1)    # Compramos una figu\n",
        "  album[figu] = 1                             # Pegamos la figu\n",
        "  contador = contador + 1                     # Actualizamos el contador\n",
        "print(contador)                               # Imprimimos la cantidad de figus que compramos para llenar el álbum"
      ],
      "metadata": {
        "id": "Fb4LLJE71y7V"
      },
      "execution_count": null,
      "outputs": []
    },
    {
      "cell_type": "markdown",
      "source": [
        "Entonces tenemos un pedazo de código al que le decimos la cantidad de figuritas que tiene un álbum y compra figuritas por nosotros hasta llenarlo, y luego nos dice cuántas figuritas necesitó, ¡parece magia!. Python nos permite encapsular todo este código en una función que llamaremos **cuantasFigus**:  "
      ],
      "metadata": {
        "id": "F8hgq_OcBhsY"
      }
    },
    {
      "cell_type": "code",
      "source": [
        "def cuantasFigus(figusTotal):                   # Definimos la función\n",
        "  album = [0] * figusTotal                      # Generamos el álbum vacío\n",
        "  contador = 0                                  # Iniciamos el contador en 0\n",
        "  while sum(album) < figusTotal:                # Mientras el álbum no esté lleno\n",
        "    figu = random.randint(0, figusTotal - 1)    # Compramos una figu\n",
        "    album[figu] = 1                             # La pegamos en el álbum\n",
        "    contador = contador + 1                     # La contamos\n",
        "  return contador                               # Devolvemos la cantidad de figus que compramos"
      ],
      "metadata": {
        "id": "SQ8YBAL732vW"
      },
      "execution_count": null,
      "outputs": []
    },
    {
      "cell_type": "markdown",
      "source": [
        "¡Definimos nuestra primera función en Python!\n",
        "La función se llama **cuantasFigus**, toma como *parámetro* (lo que va entre paréntesis en la parte de definición) la cantidad de figus que tiene el **album** (**figusTotal**) y nos devuelve cuántas figus tuvimos que comprar para completarlo (**contador**).\n",
        "\n",
        "Ahora la podemos usar de la siguiente forma:"
      ],
      "metadata": {
        "id": "4x793YTYDoIi"
      }
    },
    {
      "cell_type": "code",
      "source": [
        "cuantasFigus(638)"
      ],
      "metadata": {
        "id": "uMRcEB8gDmEY"
      },
      "execution_count": null,
      "outputs": []
    },
    {
      "cell_type": "markdown",
      "source": [
        "Usemos la función **cuantasFigus** para saber cuántas necesitamos comprar **en promedio** para llenar el **album**. Para eso, pongamos en práctica todo lo que aprendimos hasta ahora para repetir el llenado del **album** 100 veces: "
      ],
      "metadata": {
        "id": "pB6_sDdcEaAT"
      }
    },
    {
      "cell_type": "code",
      "source": [
        "Nrep = 100                                                    # Definimos la cantidad de veces que llenamos el álbum\n",
        "muchosResultados = [-1] * Nrep                                # Generamos la lista de resultados\n",
        "figusTotal = 638                                              # Definimos la cantidad de figus del álbum\n",
        "rep = 0                                                       # Iniciamos el contador de repeticiones en 0\n",
        "while rep < Nrep:                                             # Mientras la repetición sea menor a la cantidad de repeticiones\n",
        "  muchosResultados[rep] = cuantasFigus(figusTotal)            # Llenamos el álbum y guardamos el resultado en la lista\n",
        "  rep = rep + 1                                               # Actualizamos el número de repetición\n",
        "promedioMuchos = sum(muchosResultados)/Nrep                   # Calculamos el promedio\n",
        "print(promedioMuchos)                                         # Imprimimos el promedio"
      ],
      "metadata": {
        "id": "_DPoX29lEUCd"
      },
      "execution_count": null,
      "outputs": []
    },
    {
      "cell_type": "markdown",
      "source": [
        "¡Pudimos responder nuestra pregunta!\n",
        "Dividiendo el resultado por 5 (la cantidad de figuritas en un paquete) podemos saber cuántos paquetes necesitamos para llenar el álbum del mundial. Gracias al poder de la programación, nos dimos cuenta que no es necesario ser un [matemático de la Universidad de Cardiff](https://www.infobae.com/economia/2022/08/24/el-album-del-mundial-2022-como-es-la-mejor-estrategia-para-llenarlo-al-costo-mas-bajo/) para responder una pregunta que puede tener cualquiera, que en principio parece imposible de responder y que es noticia en cada mundial. \n",
        "\n"
      ],
      "metadata": {
        "id": "v_K_Y8NzG8Rl"
      }
    }
  ]
}